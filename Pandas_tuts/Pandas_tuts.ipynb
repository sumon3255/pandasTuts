{
 "cells": [
  {
   "cell_type": "code",
   "execution_count": 1,
   "id": "5fdf9e78",
   "metadata": {},
   "outputs": [],
   "source": [
    "import pandas as pd"
   ]
  },
  {
   "cell_type": "code",
   "execution_count": 2,
   "id": "f76074f0",
   "metadata": {},
   "outputs": [
    {
     "data": {
      "text/plain": [
       "'1.3.1'"
      ]
     },
     "execution_count": 2,
     "metadata": {},
     "output_type": "execute_result"
    }
   ],
   "source": [
    "pd.__version__"
   ]
  },
  {
   "cell_type": "markdown",
   "id": "df26643f",
   "metadata": {},
   "source": [
    "# DataFrame"
   ]
  },
  {
   "cell_type": "code",
   "execution_count": 3,
   "id": "6ad7ca61",
   "metadata": {},
   "outputs": [],
   "source": [
    "dataset = {\n",
    "    'Name':[\"sumon\",\"galib\",\"junaed\",\"kamrul\"],\n",
    "    'passing year': [\"2023\",\"2024\",\"2022\",\"2023\"]\n",
    "    \n",
    "}\n"
   ]
  },
  {
   "cell_type": "code",
   "execution_count": 4,
   "id": "ca7d694f",
   "metadata": {},
   "outputs": [],
   "source": [
    "var1 = pd.DataFrame(dataset)"
   ]
  },
  {
   "cell_type": "code",
   "execution_count": 5,
   "id": "09a40b28",
   "metadata": {},
   "outputs": [
    {
     "name": "stdout",
     "output_type": "stream",
     "text": [
      "     Name passing year\n",
      "0   sumon         2023\n",
      "1   galib         2024\n",
      "2  junaed         2022\n",
      "3  kamrul         2023\n"
     ]
    }
   ],
   "source": [
    "print(var1)"
   ]
  },
  {
   "cell_type": "markdown",
   "id": "672559cb",
   "metadata": {},
   "source": [
    "# Series"
   ]
  },
  {
   "cell_type": "code",
   "execution_count": 6,
   "id": "83c56658",
   "metadata": {},
   "outputs": [],
   "source": [
    "var2 = [\"sumon\",\"galib\",\"nerob\",\"kamrul\"]"
   ]
  },
  {
   "cell_type": "code",
   "execution_count": 7,
   "id": "84b07127",
   "metadata": {},
   "outputs": [
    {
     "data": {
      "text/plain": [
       "0     sumon\n",
       "1     galib\n",
       "2     nerob\n",
       "3    kamrul\n",
       "dtype: object"
      ]
     },
     "execution_count": 7,
     "metadata": {},
     "output_type": "execute_result"
    }
   ],
   "source": [
    "pd.Series(var2)"
   ]
  },
  {
   "cell_type": "code",
   "execution_count": 28,
   "id": "c9762c5c",
   "metadata": {},
   "outputs": [
    {
     "data": {
      "text/plain": [
       "w     sumon\n",
       "x     galib\n",
       "y     nerob\n",
       "z    kamrul\n",
       "dtype: object"
      ]
     },
     "execution_count": 28,
     "metadata": {},
     "output_type": "execute_result"
    }
   ],
   "source": [
    "pd.Series(var2,index=[\"w\",\"x\",\"y\",\"z\"])"
   ]
  },
  {
   "cell_type": "code",
   "execution_count": 25,
   "id": "a3f9c4b2",
   "metadata": {},
   "outputs": [],
   "source": [
    "var3 = {\"sumon\":2023,\"kamrul\":2023,\"galib\":2024}"
   ]
  },
  {
   "cell_type": "code",
   "execution_count": 26,
   "id": "279f3ff7",
   "metadata": {},
   "outputs": [
    {
     "data": {
      "text/plain": [
       "sumon     2023\n",
       "kamrul    2023\n",
       "galib     2024\n",
       "dtype: int64"
      ]
     },
     "execution_count": 26,
     "metadata": {},
     "output_type": "execute_result"
    }
   ],
   "source": [
    "pd.Series(var3)"
   ]
  },
  {
   "cell_type": "markdown",
   "id": "76623bfc",
   "metadata": {},
   "source": [
    "# DataFrame to csv"
   ]
  },
  {
   "cell_type": "code",
   "execution_count": 13,
   "id": "c195dcac",
   "metadata": {},
   "outputs": [],
   "source": [
    "dataset = {\n",
    "    'Name':[\"sumon\",\"galib\",\"junaed\",\"kamrul\"],\n",
    "    'passing year': [\"2023\",\"2024\",\"2022\",\"2023\"],\n",
    "    'Institute': [\"MIST\",\"RUET\",\"AIUB\",\"MIST\"]\n",
    "    \n",
    "}\n"
   ]
  },
  {
   "cell_type": "code",
   "execution_count": 15,
   "id": "210eac5a",
   "metadata": {},
   "outputs": [],
   "source": [
    "df = pd.DataFrame(dataset)\n",
    "df.to_csv(\"data1.csv\",index=False)"
   ]
  },
  {
   "cell_type": "code",
   "execution_count": 22,
   "id": "9c868978",
   "metadata": {},
   "outputs": [],
   "source": [
    "df1 = pd.read_csv(\"data1.csv\")"
   ]
  },
  {
   "cell_type": "code",
   "execution_count": 25,
   "id": "2fca8990",
   "metadata": {},
   "outputs": [
    {
     "data": {
      "text/html": [
       "<div>\n",
       "<style scoped>\n",
       "    .dataframe tbody tr th:only-of-type {\n",
       "        vertical-align: middle;\n",
       "    }\n",
       "\n",
       "    .dataframe tbody tr th {\n",
       "        vertical-align: top;\n",
       "    }\n",
       "\n",
       "    .dataframe thead th {\n",
       "        text-align: right;\n",
       "    }\n",
       "</style>\n",
       "<table border=\"1\" class=\"dataframe\">\n",
       "  <thead>\n",
       "    <tr style=\"text-align: right;\">\n",
       "      <th></th>\n",
       "      <th>Name</th>\n",
       "      <th>passing year</th>\n",
       "      <th>Institute</th>\n",
       "    </tr>\n",
       "  </thead>\n",
       "  <tbody>\n",
       "    <tr>\n",
       "      <th>0</th>\n",
       "      <td>sumon</td>\n",
       "      <td>2023</td>\n",
       "      <td>MIST</td>\n",
       "    </tr>\n",
       "    <tr>\n",
       "      <th>1</th>\n",
       "      <td>galib</td>\n",
       "      <td>2024</td>\n",
       "      <td>RUET</td>\n",
       "    </tr>\n",
       "    <tr>\n",
       "      <th>2</th>\n",
       "      <td>junaed</td>\n",
       "      <td>2022</td>\n",
       "      <td>AIUB</td>\n",
       "    </tr>\n",
       "    <tr>\n",
       "      <th>3</th>\n",
       "      <td>kamrul</td>\n",
       "      <td>2023</td>\n",
       "      <td>MIST</td>\n",
       "    </tr>\n",
       "  </tbody>\n",
       "</table>\n",
       "</div>"
      ],
      "text/plain": [
       "     Name  passing year Institute\n",
       "0   sumon          2023      MIST\n",
       "1   galib          2024      RUET\n",
       "2  junaed          2022      AIUB\n",
       "3  kamrul          2023      MIST"
      ]
     },
     "execution_count": 25,
     "metadata": {},
     "output_type": "execute_result"
    }
   ],
   "source": [
    "df1.head()"
   ]
  },
  {
   "cell_type": "code",
   "execution_count": 26,
   "id": "63bbf080",
   "metadata": {},
   "outputs": [
    {
     "data": {
      "text/html": [
       "<div>\n",
       "<style scoped>\n",
       "    .dataframe tbody tr th:only-of-type {\n",
       "        vertical-align: middle;\n",
       "    }\n",
       "\n",
       "    .dataframe tbody tr th {\n",
       "        vertical-align: top;\n",
       "    }\n",
       "\n",
       "    .dataframe thead th {\n",
       "        text-align: right;\n",
       "    }\n",
       "</style>\n",
       "<table border=\"1\" class=\"dataframe\">\n",
       "  <thead>\n",
       "    <tr style=\"text-align: right;\">\n",
       "      <th></th>\n",
       "      <th>Name</th>\n",
       "      <th>passing year</th>\n",
       "      <th>Institute</th>\n",
       "    </tr>\n",
       "  </thead>\n",
       "  <tbody>\n",
       "    <tr>\n",
       "      <th>0</th>\n",
       "      <td>sumon</td>\n",
       "      <td>2023</td>\n",
       "      <td>MIST</td>\n",
       "    </tr>\n",
       "    <tr>\n",
       "      <th>1</th>\n",
       "      <td>galib</td>\n",
       "      <td>2024</td>\n",
       "      <td>RUET</td>\n",
       "    </tr>\n",
       "    <tr>\n",
       "      <th>2</th>\n",
       "      <td>junaed</td>\n",
       "      <td>2022</td>\n",
       "      <td>AIUB</td>\n",
       "    </tr>\n",
       "    <tr>\n",
       "      <th>3</th>\n",
       "      <td>kamrul</td>\n",
       "      <td>2023</td>\n",
       "      <td>MIST</td>\n",
       "    </tr>\n",
       "  </tbody>\n",
       "</table>\n",
       "</div>"
      ],
      "text/plain": [
       "     Name  passing year Institute\n",
       "0   sumon          2023      MIST\n",
       "1   galib          2024      RUET\n",
       "2  junaed          2022      AIUB\n",
       "3  kamrul          2023      MIST"
      ]
     },
     "execution_count": 26,
     "metadata": {},
     "output_type": "execute_result"
    }
   ],
   "source": [
    "df1.tail()"
   ]
  },
  {
   "cell_type": "code",
   "execution_count": 27,
   "id": "d9ca17ea",
   "metadata": {},
   "outputs": [
    {
     "data": {
      "text/html": [
       "<div>\n",
       "<style scoped>\n",
       "    .dataframe tbody tr th:only-of-type {\n",
       "        vertical-align: middle;\n",
       "    }\n",
       "\n",
       "    .dataframe tbody tr th {\n",
       "        vertical-align: top;\n",
       "    }\n",
       "\n",
       "    .dataframe thead th {\n",
       "        text-align: right;\n",
       "    }\n",
       "</style>\n",
       "<table border=\"1\" class=\"dataframe\">\n",
       "  <thead>\n",
       "    <tr style=\"text-align: right;\">\n",
       "      <th></th>\n",
       "      <th>passing year</th>\n",
       "    </tr>\n",
       "  </thead>\n",
       "  <tbody>\n",
       "    <tr>\n",
       "      <th>count</th>\n",
       "      <td>4.000000</td>\n",
       "    </tr>\n",
       "    <tr>\n",
       "      <th>mean</th>\n",
       "      <td>2023.000000</td>\n",
       "    </tr>\n",
       "    <tr>\n",
       "      <th>std</th>\n",
       "      <td>0.816497</td>\n",
       "    </tr>\n",
       "    <tr>\n",
       "      <th>min</th>\n",
       "      <td>2022.000000</td>\n",
       "    </tr>\n",
       "    <tr>\n",
       "      <th>25%</th>\n",
       "      <td>2022.750000</td>\n",
       "    </tr>\n",
       "    <tr>\n",
       "      <th>50%</th>\n",
       "      <td>2023.000000</td>\n",
       "    </tr>\n",
       "    <tr>\n",
       "      <th>75%</th>\n",
       "      <td>2023.250000</td>\n",
       "    </tr>\n",
       "    <tr>\n",
       "      <th>max</th>\n",
       "      <td>2024.000000</td>\n",
       "    </tr>\n",
       "  </tbody>\n",
       "</table>\n",
       "</div>"
      ],
      "text/plain": [
       "       passing year\n",
       "count      4.000000\n",
       "mean    2023.000000\n",
       "std        0.816497\n",
       "min     2022.000000\n",
       "25%     2022.750000\n",
       "50%     2023.000000\n",
       "75%     2023.250000\n",
       "max     2024.000000"
      ]
     },
     "execution_count": 27,
     "metadata": {},
     "output_type": "execute_result"
    }
   ],
   "source": [
    "df1.describe()"
   ]
  },
  {
   "cell_type": "code",
   "execution_count": null,
   "id": "f41d3f4b",
   "metadata": {},
   "outputs": [],
   "source": []
  }
 ],
 "metadata": {
  "kernelspec": {
   "display_name": "Python 3 (ipykernel)",
   "language": "python",
   "name": "python3"
  },
  "language_info": {
   "codemirror_mode": {
    "name": "ipython",
    "version": 3
   },
   "file_extension": ".py",
   "mimetype": "text/x-python",
   "name": "python",
   "nbconvert_exporter": "python",
   "pygments_lexer": "ipython3",
   "version": "3.9.6"
  }
 },
 "nbformat": 4,
 "nbformat_minor": 5
}
